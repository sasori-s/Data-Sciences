{
  "cells": [
    {
      "cell_type": "code",
      "execution_count": null,
      "metadata": {
        "id": "vNuZEqVu5lA9"
      },
      "outputs": [],
      "source": [
        "## https://www.kaggle.com/datasets/adityadesai13/used-car-dataset-ford-and-mercedes"
      ]
    },
    {
      "cell_type": "markdown",
      "metadata": {
        "id": "YuKrLGQu_qIU"
      },
      "source": [
        "##Importing Libraries\n"
      ]
    },
    {
      "cell_type": "code",
      "execution_count": null,
      "metadata": {
        "id": "QedgGdRr_uVH"
      },
      "outputs": [],
      "source": [
        "import pandas as pd\n",
        "import numpy as np\n",
        "import matplotlib.pyplot as plt\n",
        "%matplotlib inline\n",
        "import seaborn as sns #plotting module\n",
        "from sklearn import metrics"
      ]
    },
    {
      "cell_type": "markdown",
      "metadata": {
        "id": "9sSEXTVKAdBx"
      },
      "source": [
        "##Importing Datasets from my drive"
      ]
    },
    {
      "cell_type": "code",
      "execution_count": null,
      "metadata": {
        "id": "PR3JtlLo_w9H"
      },
      "outputs": [],
      "source": [
        "!pip install -U -q PyDrive\n",
        " \n",
        "from pydrive.auth import GoogleAuth\n",
        "from pydrive.drive import GoogleDrive\n",
        "from google.colab import auth\n",
        "from oauth2client.client import GoogleCredentials\n",
        " \n",
        " \n",
        "# Authenticate and create the PyDrive client.\n",
        "auth.authenticate_user()\n",
        "gauth = GoogleAuth()\n",
        "gauth.credentials = GoogleCredentials.get_application_default()\n",
        "drive = GoogleDrive(gauth)"
      ]
    },
    {
      "cell_type": "code",
      "execution_count": null,
      "metadata": {
        "colab": {
          "base_uri": "https://localhost:8080/"
        },
        "id": "p7I2LN9EAhMH",
        "outputId": "f7d01d06-6ae0-4469-a375-12d38f00229b"
      },
      "outputs": [
        {
          "output_type": "stream",
          "name": "stdout",
          "text": [
            "      model  year  price transmission  mileage fuelType  tax   mpg  engineSize\n",
            "0        A1  2017  12500       Manual    15735   Petrol  150  55.4         1.4\n",
            "1        A6  2016  16500    Automatic    36203   Diesel   20  64.2         2.0\n",
            "2        A1  2016  11000       Manual    29946   Petrol   30  55.4         1.4\n",
            "3        A4  2017  16800    Automatic    25952   Diesel  145  67.3         2.0\n",
            "4        A3  2019  17300       Manual     1998   Petrol  145  49.6         1.0\n",
            "...     ...   ...    ...          ...      ...      ...  ...   ...         ...\n",
            "10663    A3  2020  16999       Manual     4018   Petrol  145  49.6         1.0\n",
            "10664    A3  2020  16999       Manual     1978   Petrol  150  49.6         1.0\n",
            "10665    A3  2020  17199       Manual      609   Petrol  150  49.6         1.0\n",
            "10666    Q3  2017  19499    Automatic     8646   Petrol  150  47.9         1.4\n",
            "10667    Q3  2016  15999       Manual    11855   Petrol  150  47.9         1.4\n",
            "\n",
            "[10668 rows x 9 columns]\n"
          ]
        }
      ],
      "source": [
        "link = 'https://drive.google.com/file/d/1U46cv_0SDHdyjj1wLDfC6R2Z4eLFIzA7/view?usp=sharing'\n",
        "id = link.split(\"/\")[-2]\n",
        " \n",
        "downloaded = drive.CreateFile({'id':id})\n",
        "downloaded.GetContentFile('audi.csv') \n",
        " \n",
        "df = pd.read_csv('audi.csv')\n",
        "print(df)"
      ]
    },
    {
      "cell_type": "code",
      "source": [],
      "metadata": {
        "id": "LOoHmxIMiQSX"
      },
      "execution_count": null,
      "outputs": []
    },
    {
      "cell_type": "code",
      "execution_count": null,
      "metadata": {
        "colab": {
          "base_uri": "https://localhost:8080/",
          "height": 468
        },
        "id": "738cklrkA3pw",
        "outputId": "e5d84968-5692-4220-a77c-15e42ef5d76e"
      },
      "outputs": [
        {
          "output_type": "execute_result",
          "data": {
            "text/plain": [
              "      model  year  price transmission  mileage fuelType  tax   mpg  engineSize\n",
              "0        A1  2017  12500       Manual    15735   Petrol  150  55.4         1.4\n",
              "1        A6  2016  16500    Automatic    36203   Diesel   20  64.2         2.0\n",
              "2        A1  2016  11000       Manual    29946   Petrol   30  55.4         1.4\n",
              "3        A4  2017  16800    Automatic    25952   Diesel  145  67.3         2.0\n",
              "4        A3  2019  17300       Manual     1998   Petrol  145  49.6         1.0\n",
              "...     ...   ...    ...          ...      ...      ...  ...   ...         ...\n",
              "10663    A3  2020  16999       Manual     4018   Petrol  145  49.6         1.0\n",
              "10664    A3  2020  16999       Manual     1978   Petrol  150  49.6         1.0\n",
              "10665    A3  2020  17199       Manual      609   Petrol  150  49.6         1.0\n",
              "10666    Q3  2017  19499    Automatic     8646   Petrol  150  47.9         1.4\n",
              "10667    Q3  2016  15999       Manual    11855   Petrol  150  47.9         1.4\n",
              "\n",
              "[10668 rows x 9 columns]"
            ],
            "text/html": [
              "\n",
              "  <div id=\"df-4375e84e-b459-42c9-bca9-f4b0b04a3c48\">\n",
              "    <div class=\"colab-df-container\">\n",
              "      <div>\n",
              "<style scoped>\n",
              "    .dataframe tbody tr th:only-of-type {\n",
              "        vertical-align: middle;\n",
              "    }\n",
              "\n",
              "    .dataframe tbody tr th {\n",
              "        vertical-align: top;\n",
              "    }\n",
              "\n",
              "    .dataframe thead th {\n",
              "        text-align: right;\n",
              "    }\n",
              "</style>\n",
              "<table border=\"1\" class=\"dataframe\">\n",
              "  <thead>\n",
              "    <tr style=\"text-align: right;\">\n",
              "      <th></th>\n",
              "      <th>model</th>\n",
              "      <th>year</th>\n",
              "      <th>price</th>\n",
              "      <th>transmission</th>\n",
              "      <th>mileage</th>\n",
              "      <th>fuelType</th>\n",
              "      <th>tax</th>\n",
              "      <th>mpg</th>\n",
              "      <th>engineSize</th>\n",
              "    </tr>\n",
              "  </thead>\n",
              "  <tbody>\n",
              "    <tr>\n",
              "      <th>0</th>\n",
              "      <td>A1</td>\n",
              "      <td>2017</td>\n",
              "      <td>12500</td>\n",
              "      <td>Manual</td>\n",
              "      <td>15735</td>\n",
              "      <td>Petrol</td>\n",
              "      <td>150</td>\n",
              "      <td>55.4</td>\n",
              "      <td>1.4</td>\n",
              "    </tr>\n",
              "    <tr>\n",
              "      <th>1</th>\n",
              "      <td>A6</td>\n",
              "      <td>2016</td>\n",
              "      <td>16500</td>\n",
              "      <td>Automatic</td>\n",
              "      <td>36203</td>\n",
              "      <td>Diesel</td>\n",
              "      <td>20</td>\n",
              "      <td>64.2</td>\n",
              "      <td>2.0</td>\n",
              "    </tr>\n",
              "    <tr>\n",
              "      <th>2</th>\n",
              "      <td>A1</td>\n",
              "      <td>2016</td>\n",
              "      <td>11000</td>\n",
              "      <td>Manual</td>\n",
              "      <td>29946</td>\n",
              "      <td>Petrol</td>\n",
              "      <td>30</td>\n",
              "      <td>55.4</td>\n",
              "      <td>1.4</td>\n",
              "    </tr>\n",
              "    <tr>\n",
              "      <th>3</th>\n",
              "      <td>A4</td>\n",
              "      <td>2017</td>\n",
              "      <td>16800</td>\n",
              "      <td>Automatic</td>\n",
              "      <td>25952</td>\n",
              "      <td>Diesel</td>\n",
              "      <td>145</td>\n",
              "      <td>67.3</td>\n",
              "      <td>2.0</td>\n",
              "    </tr>\n",
              "    <tr>\n",
              "      <th>4</th>\n",
              "      <td>A3</td>\n",
              "      <td>2019</td>\n",
              "      <td>17300</td>\n",
              "      <td>Manual</td>\n",
              "      <td>1998</td>\n",
              "      <td>Petrol</td>\n",
              "      <td>145</td>\n",
              "      <td>49.6</td>\n",
              "      <td>1.0</td>\n",
              "    </tr>\n",
              "    <tr>\n",
              "      <th>...</th>\n",
              "      <td>...</td>\n",
              "      <td>...</td>\n",
              "      <td>...</td>\n",
              "      <td>...</td>\n",
              "      <td>...</td>\n",
              "      <td>...</td>\n",
              "      <td>...</td>\n",
              "      <td>...</td>\n",
              "      <td>...</td>\n",
              "    </tr>\n",
              "    <tr>\n",
              "      <th>10663</th>\n",
              "      <td>A3</td>\n",
              "      <td>2020</td>\n",
              "      <td>16999</td>\n",
              "      <td>Manual</td>\n",
              "      <td>4018</td>\n",
              "      <td>Petrol</td>\n",
              "      <td>145</td>\n",
              "      <td>49.6</td>\n",
              "      <td>1.0</td>\n",
              "    </tr>\n",
              "    <tr>\n",
              "      <th>10664</th>\n",
              "      <td>A3</td>\n",
              "      <td>2020</td>\n",
              "      <td>16999</td>\n",
              "      <td>Manual</td>\n",
              "      <td>1978</td>\n",
              "      <td>Petrol</td>\n",
              "      <td>150</td>\n",
              "      <td>49.6</td>\n",
              "      <td>1.0</td>\n",
              "    </tr>\n",
              "    <tr>\n",
              "      <th>10665</th>\n",
              "      <td>A3</td>\n",
              "      <td>2020</td>\n",
              "      <td>17199</td>\n",
              "      <td>Manual</td>\n",
              "      <td>609</td>\n",
              "      <td>Petrol</td>\n",
              "      <td>150</td>\n",
              "      <td>49.6</td>\n",
              "      <td>1.0</td>\n",
              "    </tr>\n",
              "    <tr>\n",
              "      <th>10666</th>\n",
              "      <td>Q3</td>\n",
              "      <td>2017</td>\n",
              "      <td>19499</td>\n",
              "      <td>Automatic</td>\n",
              "      <td>8646</td>\n",
              "      <td>Petrol</td>\n",
              "      <td>150</td>\n",
              "      <td>47.9</td>\n",
              "      <td>1.4</td>\n",
              "    </tr>\n",
              "    <tr>\n",
              "      <th>10667</th>\n",
              "      <td>Q3</td>\n",
              "      <td>2016</td>\n",
              "      <td>15999</td>\n",
              "      <td>Manual</td>\n",
              "      <td>11855</td>\n",
              "      <td>Petrol</td>\n",
              "      <td>150</td>\n",
              "      <td>47.9</td>\n",
              "      <td>1.4</td>\n",
              "    </tr>\n",
              "  </tbody>\n",
              "</table>\n",
              "<p>10668 rows × 9 columns</p>\n",
              "</div>\n",
              "      <button class=\"colab-df-convert\" onclick=\"convertToInteractive('df-4375e84e-b459-42c9-bca9-f4b0b04a3c48')\"\n",
              "              title=\"Convert this dataframe to an interactive table.\"\n",
              "              style=\"display:none;\">\n",
              "        \n",
              "  <svg xmlns=\"http://www.w3.org/2000/svg\" height=\"24px\"viewBox=\"0 0 24 24\"\n",
              "       width=\"24px\">\n",
              "    <path d=\"M0 0h24v24H0V0z\" fill=\"none\"/>\n",
              "    <path d=\"M18.56 5.44l.94 2.06.94-2.06 2.06-.94-2.06-.94-.94-2.06-.94 2.06-2.06.94zm-11 1L8.5 8.5l.94-2.06 2.06-.94-2.06-.94L8.5 2.5l-.94 2.06-2.06.94zm10 10l.94 2.06.94-2.06 2.06-.94-2.06-.94-.94-2.06-.94 2.06-2.06.94z\"/><path d=\"M17.41 7.96l-1.37-1.37c-.4-.4-.92-.59-1.43-.59-.52 0-1.04.2-1.43.59L10.3 9.45l-7.72 7.72c-.78.78-.78 2.05 0 2.83L4 21.41c.39.39.9.59 1.41.59.51 0 1.02-.2 1.41-.59l7.78-7.78 2.81-2.81c.8-.78.8-2.07 0-2.86zM5.41 20L4 18.59l7.72-7.72 1.47 1.35L5.41 20z\"/>\n",
              "  </svg>\n",
              "      </button>\n",
              "      \n",
              "  <style>\n",
              "    .colab-df-container {\n",
              "      display:flex;\n",
              "      flex-wrap:wrap;\n",
              "      gap: 12px;\n",
              "    }\n",
              "\n",
              "    .colab-df-convert {\n",
              "      background-color: #E8F0FE;\n",
              "      border: none;\n",
              "      border-radius: 50%;\n",
              "      cursor: pointer;\n",
              "      display: none;\n",
              "      fill: #1967D2;\n",
              "      height: 32px;\n",
              "      padding: 0 0 0 0;\n",
              "      width: 32px;\n",
              "    }\n",
              "\n",
              "    .colab-df-convert:hover {\n",
              "      background-color: #E2EBFA;\n",
              "      box-shadow: 0px 1px 2px rgba(60, 64, 67, 0.3), 0px 1px 3px 1px rgba(60, 64, 67, 0.15);\n",
              "      fill: #174EA6;\n",
              "    }\n",
              "\n",
              "    [theme=dark] .colab-df-convert {\n",
              "      background-color: #3B4455;\n",
              "      fill: #D2E3FC;\n",
              "    }\n",
              "\n",
              "    [theme=dark] .colab-df-convert:hover {\n",
              "      background-color: #434B5C;\n",
              "      box-shadow: 0px 1px 3px 1px rgba(0, 0, 0, 0.15);\n",
              "      filter: drop-shadow(0px 1px 2px rgba(0, 0, 0, 0.3));\n",
              "      fill: #FFFFFF;\n",
              "    }\n",
              "  </style>\n",
              "\n",
              "      <script>\n",
              "        const buttonEl =\n",
              "          document.querySelector('#df-4375e84e-b459-42c9-bca9-f4b0b04a3c48 button.colab-df-convert');\n",
              "        buttonEl.style.display =\n",
              "          google.colab.kernel.accessAllowed ? 'block' : 'none';\n",
              "\n",
              "        async function convertToInteractive(key) {\n",
              "          const element = document.querySelector('#df-4375e84e-b459-42c9-bca9-f4b0b04a3c48');\n",
              "          const dataTable =\n",
              "            await google.colab.kernel.invokeFunction('convertToInteractive',\n",
              "                                                     [key], {});\n",
              "          if (!dataTable) return;\n",
              "\n",
              "          const docLinkHtml = 'Like what you see? Visit the ' +\n",
              "            '<a target=\"_blank\" href=https://colab.research.google.com/notebooks/data_table.ipynb>data table notebook</a>'\n",
              "            + ' to learn more about interactive tables.';\n",
              "          element.innerHTML = '';\n",
              "          dataTable['output_type'] = 'display_data';\n",
              "          await google.colab.output.renderOutput(dataTable, element);\n",
              "          const docLink = document.createElement('div');\n",
              "          docLink.innerHTML = docLinkHtml;\n",
              "          element.appendChild(docLink);\n",
              "        }\n",
              "      </script>\n",
              "    </div>\n",
              "  </div>\n",
              "  "
            ]
          },
          "metadata": {},
          "execution_count": 7
        }
      ],
      "source": [
        "df"
      ]
    },
    {
      "cell_type": "code",
      "source": [
        "df.shape"
      ],
      "metadata": {
        "colab": {
          "base_uri": "https://localhost:8080/"
        },
        "id": "Jq0BbGrnqxB8",
        "outputId": "b4124079-f923-480b-b876-a10796342b5a"
      },
      "execution_count": null,
      "outputs": [
        {
          "output_type": "execute_result",
          "data": {
            "text/plain": [
              "(10668, 9)"
            ]
          },
          "metadata": {},
          "execution_count": 8
        }
      ]
    },
    {
      "cell_type": "markdown",
      "source": [
        "##Getting some information about dataset"
      ],
      "metadata": {
        "id": "MlKRBt5QRwOg"
      }
    },
    {
      "cell_type": "code",
      "source": [
        "df.info()"
      ],
      "metadata": {
        "colab": {
          "base_uri": "https://localhost:8080/"
        },
        "id": "7xlDbCJgSCEd",
        "outputId": "e58318a5-9f98-452f-d1ef-e34deb881f31"
      },
      "execution_count": null,
      "outputs": [
        {
          "output_type": "stream",
          "name": "stdout",
          "text": [
            "<class 'pandas.core.frame.DataFrame'>\n",
            "RangeIndex: 10668 entries, 0 to 10667\n",
            "Data columns (total 9 columns):\n",
            " #   Column        Non-Null Count  Dtype  \n",
            "---  ------        --------------  -----  \n",
            " 0   model         10668 non-null  object \n",
            " 1   year          10668 non-null  int64  \n",
            " 2   price         10668 non-null  int64  \n",
            " 3   transmission  10668 non-null  object \n",
            " 4   mileage       10668 non-null  int64  \n",
            " 5   fuelType      10668 non-null  object \n",
            " 6   tax           10668 non-null  int64  \n",
            " 7   mpg           10668 non-null  float64\n",
            " 8   engineSize    10668 non-null  float64\n",
            "dtypes: float64(2), int64(4), object(3)\n",
            "memory usage: 750.2+ KB\n"
          ]
        }
      ]
    },
    {
      "cell_type": "markdown",
      "source": [
        "##Checking the number of missing values"
      ],
      "metadata": {
        "id": "bzWhPVsOSOID"
      }
    },
    {
      "cell_type": "code",
      "source": [
        "df.isnull().sum()"
      ],
      "metadata": {
        "colab": {
          "base_uri": "https://localhost:8080/"
        },
        "id": "NxdmurViSRRM",
        "outputId": "68bd9a43-b2e2-4266-80f1-21a79896c5bd"
      },
      "execution_count": null,
      "outputs": [
        {
          "output_type": "execute_result",
          "data": {
            "text/plain": [
              "model           0\n",
              "year            0\n",
              "price           0\n",
              "transmission    0\n",
              "mileage         0\n",
              "fuelType        0\n",
              "tax             0\n",
              "mpg             0\n",
              "engineSize      0\n",
              "dtype: int64"
            ]
          },
          "metadata": {},
          "execution_count": 10
        }
      ]
    },
    {
      "cell_type": "markdown",
      "source": [
        "##Checking the distribution of categorical data"
      ],
      "metadata": {
        "id": "j6t5pRFOSpaG"
      }
    },
    {
      "cell_type": "code",
      "source": [
        "print(df.model.value_counts())\n",
        "print(df.transmission.value_counts())\n",
        "print(df.fuelType.value_counts())\n"
      ],
      "metadata": {
        "colab": {
          "base_uri": "https://localhost:8080/"
        },
        "id": "wr9UxvMbSv2s",
        "outputId": "6063899e-3d33-406d-9b4a-dccb734ed9fc"
      },
      "execution_count": null,
      "outputs": [
        {
          "output_type": "stream",
          "name": "stdout",
          "text": [
            " A3     1929\n",
            " Q3     1417\n",
            " A4     1381\n",
            " A1     1347\n",
            " A5      882\n",
            " Q5      877\n",
            " Q2      822\n",
            " A6      748\n",
            " Q7      397\n",
            " TT      336\n",
            " A7      122\n",
            " A8      118\n",
            " Q8       69\n",
            " RS6      39\n",
            " RS3      33\n",
            " RS4      31\n",
            " RS5      29\n",
            " R8       28\n",
            " S3       18\n",
            " SQ5      16\n",
            " S4       12\n",
            " SQ7       8\n",
            " S8        4\n",
            " S5        3\n",
            " A2        1\n",
            " RS7       1\n",
            "Name: model, dtype: int64\n",
            "Manual       4369\n",
            "Semi-Auto    3591\n",
            "Automatic    2708\n",
            "Name: transmission, dtype: int64\n",
            "Diesel    5577\n",
            "Petrol    5063\n",
            "Hybrid      28\n",
            "Name: fuelType, dtype: int64\n"
          ]
        }
      ]
    },
    {
      "cell_type": "markdown",
      "source": [],
      "metadata": {
        "id": "g3Rk5pgoN54R"
      }
    },
    {
      "cell_type": "markdown",
      "source": [
        "##Plotting Bar Chart"
      ],
      "metadata": {
        "id": "sMaDv8XzN-4A"
      }
    },
    {
      "cell_type": "markdown",
      "source": [
        "###Visualizing Data"
      ],
      "metadata": {
        "id": "kcBDdGzER8FZ"
      }
    },
    {
      "cell_type": "markdown",
      "source": [
        "Car Model"
      ],
      "metadata": {
        "id": "t8Ro8RwSS3Ny"
      }
    },
    {
      "cell_type": "code",
      "source": [
        "plt.figure(figsize=(12,10))\n",
        "sns.countplot(y='model', data=df)\n",
        "plt.title('Model types')\n",
        "plt.show()"
      ],
      "metadata": {
        "id": "ov9GTzi2R-jA",
        "colab": {
          "base_uri": "https://localhost:8080/",
          "height": 536
        },
        "outputId": "a1c4e174-8993-42df-ea9d-cf772be0c462"
      },
      "execution_count": null,
      "outputs": [
        {
          "output_type": "display_data",
          "data": {
            "text/plain": [
              "<Figure size 864x720 with 1 Axes>"
            ],
            "image/png": "[encoded data removed]"
          },
          "metadata": {
            "needs_background": "light"
          }
        }
      ]
    },
    {
      "cell_type": "markdown",
      "source": [
        "Transmission Type"
      ],
      "metadata": {
        "id": "KBn-RXoRTB72"
      }
    },
    {
      "cell_type": "code",
      "source": [
        "sns.countplot(y='transmission', data=df)\n",
        "plt.title('Transmission types')\n",
        "plt.show()"
      ],
      "metadata": {
        "colab": {
          "base_uri": "https://localhost:8080/",
          "height": 299
        },
        "id": "aTbqeO9lTEvC",
        "outputId": "076f054c-2158-4884-8b50-a8efb9c1571b"
      },
      "execution_count": null,
      "outputs": [
        {
          "output_type": "display_data",
          "data": {
            "text/plain": [
              "<Figure size 432x288 with 1 Axes>"
            ],
            "image/png": "[encoded data removed]"
          },
          "metadata": {}
        }
      ]
    },
    {
      "cell_type": "code",
      "source": [
        "fuel_type = df['fuelType']\n",
        "transmission_type = df['transmission']\n",
        "car_model = df['model']\n",
        "selling_price = df['price']"
      ],
      "metadata": {
        "id": "DOYoxpMZOSRR"
      },
      "execution_count": null,
      "outputs": []
    },
    {
      "cell_type": "markdown",
      "source": [
        "Fuel Type"
      ],
      "metadata": {
        "id": "LJluCFKYTlQK"
      }
    },
    {
      "cell_type": "code",
      "source": [
        "sns.countplot(y='fuelType', data=df)\n",
        "plt.title('Fuel types')\n",
        "plt.show()"
      ],
      "metadata": {
        "colab": {
          "base_uri": "https://localhost:8080/",
          "height": 299
        },
        "id": "0oAsiGmwTpTX",
        "outputId": "8950fc58-6074-4cfa-eab5-a68289d1b803"
      },
      "execution_count": null,
      "outputs": [
        {
          "output_type": "display_data",
          "data": {
            "text/plain": [
              "<Figure size 432x288 with 1 Axes>"
            ],
            "image/png": "[encoded data removed]"
          },
          "metadata": {}
        }
      ]
    },
    {
      "cell_type": "markdown",
      "metadata": {
        "id": "Zy6XrDO2LocL"
      },
      "source": [
        "##Spliting X, Y values"
      ]
    },
    {
      "cell_type": "code",
      "execution_count": null,
      "metadata": {
        "id": "djTACnadBGsm"
      },
      "outputs": [],
      "source": [
        "X = df.iloc[:,[0, 1, 3, 4, 5, 6, 7, 8]].values\n",
        "Y = df.iloc[:,[2]].values ##Dependent variable PRICE"
      ]
    },
    {
      "cell_type": "code",
      "execution_count": null,
      "metadata": {
        "colab": {
          "base_uri": "https://localhost:8080/"
        },
        "id": "LD_g2EhmL-5Z",
        "outputId": "cbae6123-bcc8-4264-b615-6b5d8f930aaa"
      },
      "outputs": [
        {
          "output_type": "execute_result",
          "data": {
            "text/plain": [
              "array([[' A1', 2017, 'Manual', ..., 150, 55.4, 1.4],\n",
              "       [' A6', 2016, 'Automatic', ..., 20, 64.2, 2.0],\n",
              "       [' A1', 2016, 'Manual', ..., 30, 55.4, 1.4],\n",
              "       ...,\n",
              "       [' A3', 2020, 'Manual', ..., 150, 49.6, 1.0],\n",
              "       [' Q3', 2017, 'Automatic', ..., 150, 47.9, 1.4],\n",
              "       [' Q3', 2016, 'Manual', ..., 150, 47.9, 1.4]], dtype=object)"
            ]
          },
          "metadata": {},
          "execution_count": 15
        }
      ],
      "source": [
        "X"
      ]
    },
    {
      "cell_type": "markdown",
      "source": [
        "###Plotting max values"
      ],
      "metadata": {
        "id": "Lu3gO3iSWFE5"
      }
    },
    {
      "cell_type": "code",
      "source": [
        "from matplotlib import style"
      ],
      "metadata": {
        "id": "v546ecRGRYF_"
      },
      "execution_count": null,
      "outputs": []
    },
    {
      "cell_type": "code",
      "execution_count": null,
      "metadata": {
        "colab": {
          "base_uri": "https://localhost:8080/",
          "height": 262
        },
        "id": "cB04jZNPMB9y",
        "outputId": "2a5a595c-7cf5-4f2b-a3d6-bd15e3ddb70d"
      },
      "outputs": [
        {
          "output_type": "display_data",
          "data": {
            "text/plain": [
              "<Figure size 1080x360 with 3 Axes>"
            ],
            "image/png": "[encoded data removed]"
          },
          "metadata": {}
        }
      ],
      "source": [
        "style.use('ggplot')\n",
        "fig = plt.figure(figsize=(15,5))\n",
        "fig.suptitle('Visualizing categorical data columns')\n",
        "plt.subplot(1,3,1)\n",
        "plt.bar(fuel_type, selling_price, color='royalblue')\n",
        "plt.xlabel('Fuel Type')\n",
        "plt.ylabel('Selling Price')\n",
        "plt.subplot(1,3,2)\n",
        "plt.bar(car_model, selling_price, color='red')\n",
        "plt.xlabel(\"Car Model\")\n",
        "plt.subplot(1,3,3)\n",
        "plt.bar(transmission_type, selling_price, color='purple')\n",
        "plt.xlabel('Transmission Type')\n",
        "plt.show()"
      ]
    },
    {
      "cell_type": "markdown",
      "source": [
        "###Visualizing Mean values\n",
        "\n",
        "```\n",
        "# This is formatted as code\n",
        "```\n",
        "\n"
      ],
      "metadata": {
        "id": "TKf2HMerUUoi"
      }
    },
    {
      "cell_type": "code",
      "source": [
        "fig, axes = plt.subplots(1, 3, figsize=(15,5), sharey=True)\n",
        "fig.suptitle(\"Visulizing categorical columns\")\n",
        "sns.barplot(x=fuel_type, y=selling_price, ax=axes[0])\n",
        "sns.barplot(x=car_model, y=selling_price, ax=axes[1])\n",
        "sns.barplot(x=transmission_type, y=selling_price, ax=axes[2]) "
      ],
      "metadata": {
        "colab": {
          "base_uri": "https://localhost:8080/",
          "height": 280
        },
        "id": "wy88YSTLUP_4",
        "outputId": "79bdce18-996f-4ddd-92d6-5337de6cebf9"
      },
      "execution_count": null,
      "outputs": [
        {
          "output_type": "execute_result",
          "data": {
            "text/plain": [
              "<matplotlib.axes._subplots.AxesSubplot at 0x7f6b48db3ad0>"
            ]
          },
          "metadata": {},
          "execution_count": 18
        },
        {
          "output_type": "display_data",
          "data": {
            "text/plain": [
              "<Figure size 1080x360 with 3 Axes>"
            ],
            "image/png": "[encoded data removed]"
          },
          "metadata": {}
        }
      ]
    },
    {
      "cell_type": "markdown",
      "source": [
        "###Statistical Details of categoical variables"
      ],
      "metadata": {
        "id": "T88TQIylVVlV"
      }
    },
    {
      "cell_type": "code",
      "source": [
        "petrol_data = df.groupby('fuelType').get_group('Petrol')\n",
        "petrol_data.describe()"
      ],
      "metadata": {
        "colab": {
          "base_uri": "https://localhost:8080/",
          "height": 364
        },
        "id": "o36qWbf6VZ81",
        "outputId": "2794c5c1-9110-414e-b1dc-2b30a7e517f6"
      },
      "execution_count": null,
      "outputs": [
        {
          "output_type": "execute_result",
          "data": {
            "text/plain": [
              "              year          price        mileage          tax          mpg  \\\n",
              "count  5063.000000    5063.000000    5063.000000  5063.000000  5063.000000   \n",
              "mean   2017.378629   22480.908355   18863.487656   133.306340    46.397511   \n",
              "std       2.098577   11075.268570   17284.374233    67.228098     9.983120   \n",
              "min    1997.000000    1975.000000       7.000000     0.000000    18.900000   \n",
              "25%    2016.000000   15700.000000    5165.000000   145.000000    39.800000   \n",
              "50%    2018.000000   20798.000000   14882.000000   145.000000    44.800000   \n",
              "75%    2019.000000   26990.000000   27329.000000   145.000000    54.300000   \n",
              "max    2020.000000  145000.000000  139989.000000   580.000000   117.700000   \n",
              "\n",
              "        engineSize  \n",
              "count  5063.000000  \n",
              "mean      1.696544  \n",
              "std       0.604917  \n",
              "min       0.000000  \n",
              "25%       1.400000  \n",
              "50%       1.500000  \n",
              "75%       2.000000  \n",
              "max       6.300000  "
            ],
            "text/html": [
              "\n",
              "  <div id=\"df-5b0bbb10-2586-41e8-8d1c-ba60483f7abc\">\n",
              "    <div class=\"colab-df-container\">\n",
              "      <div>\n",
              "<style scoped>\n",
              "    .dataframe tbody tr th:only-of-type {\n",
              "        vertical-align: middle;\n",
              "    }\n",
              "\n",
              "    .dataframe tbody tr th {\n",
              "        vertical-align: top;\n",
              "    }\n",
              "\n",
              "    .dataframe thead th {\n",
              "        text-align: right;\n",
              "    }\n",
              "</style>\n",
              "<table border=\"1\" class=\"dataframe\">\n",
              "  <thead>\n",
              "    <tr style=\"text-align: right;\">\n",
              "      <th></th>\n",
              "      <th>year</th>\n",
              "      <th>price</th>\n",
              "      <th>mileage</th>\n",
              "      <th>tax</th>\n",
              "      <th>mpg</th>\n",
              "      <th>engineSize</th>\n",
              "    </tr>\n",
              "  </thead>\n",
              "  <tbody>\n",
              "    <tr>\n",
              "      <th>count</th>\n",
              "      <td>5063.000000</td>\n",
              "      <td>5063.000000</td>\n",
              "      <td>5063.000000</td>\n",
              "      <td>5063.000000</td>\n",
              "      <td>5063.000000</td>\n",
              "      <td>5063.000000</td>\n",
              "    </tr>\n",
              "    <tr>\n",
              "      <th>mean</th>\n",
              "      <td>2017.378629</td>\n",
              "      <td>22480.908355</td>\n",
              "      <td>18863.487656</td>\n",
              "      <td>133.306340</td>\n",
              "      <td>46.397511</td>\n",
              "      <td>1.696544</td>\n",
              "    </tr>\n",
              "    <tr>\n",
              "      <th>std</th>\n",
              "      <td>2.098577</td>\n",
              "      <td>11075.268570</td>\n",
              "      <td>17284.374233</td>\n",
              "      <td>67.228098</td>\n",
              "      <td>9.983120</td>\n",
              "      <td>0.604917</td>\n",
              "    </tr>\n",
              "    <tr>\n",
              "      <th>min</th>\n",
              "      <td>1997.000000</td>\n",
              "      <td>1975.000000</td>\n",
              "      <td>7.000000</td>\n",
              "      <td>0.000000</td>\n",
              "      <td>18.900000</td>\n",
              "      <td>0.000000</td>\n",
              "    </tr>\n",
              "    <tr>\n",
              "      <th>25%</th>\n",
              "      <td>2016.000000</td>\n",
              "      <td>15700.000000</td>\n",
              "      <td>5165.000000</td>\n",
              "      <td>145.000000</td>\n",
              "      <td>39.800000</td>\n",
              "      <td>1.400000</td>\n",
              "    </tr>\n",
              "    <tr>\n",
              "      <th>50%</th>\n",
              "      <td>2018.000000</td>\n",
              "      <td>20798.000000</td>\n",
              "      <td>14882.000000</td>\n",
              "      <td>145.000000</td>\n",
              "      <td>44.800000</td>\n",
              "      <td>1.500000</td>\n",
              "    </tr>\n",
              "    <tr>\n",
              "      <th>75%</th>\n",
              "      <td>2019.000000</td>\n",
              "      <td>26990.000000</td>\n",
              "      <td>27329.000000</td>\n",
              "      <td>145.000000</td>\n",
              "      <td>54.300000</td>\n",
              "      <td>2.000000</td>\n",
              "    </tr>\n",
              "    <tr>\n",
              "      <th>max</th>\n",
              "      <td>2020.000000</td>\n",
              "      <td>145000.000000</td>\n",
              "      <td>139989.000000</td>\n",
              "      <td>580.000000</td>\n",
              "      <td>117.700000</td>\n",
              "      <td>6.300000</td>\n",
              "    </tr>\n",
              "  </tbody>\n",
              "</table>\n",
              "</div>\n",
              "      <button class=\"colab-df-convert\" onclick=\"convertToInteractive('df-5b0bbb10-2586-41e8-8d1c-ba60483f7abc')\"\n",
              "              title=\"Convert this dataframe to an interactive table.\"\n",
              "              style=\"display:none;\">\n",
              "        \n",
              "  <svg xmlns=\"http://www.w3.org/2000/svg\" height=\"24px\"viewBox=\"0 0 24 24\"\n",
              "       width=\"24px\">\n",
              "    <path d=\"M0 0h24v24H0V0z\" fill=\"none\"/>\n",
              "    <path d=\"M18.56 5.44l.94 2.06.94-2.06 2.06-.94-2.06-.94-.94-2.06-.94 2.06-2.06.94zm-11 1L8.5 8.5l.94-2.06 2.06-.94-2.06-.94L8.5 2.5l-.94 2.06-2.06.94zm10 10l.94 2.06.94-2.06 2.06-.94-2.06-.94-.94-2.06-.94 2.06-2.06.94z\"/><path d=\"M17.41 7.96l-1.37-1.37c-.4-.4-.92-.59-1.43-.59-.52 0-1.04.2-1.43.59L10.3 9.45l-7.72 7.72c-.78.78-.78 2.05 0 2.83L4 21.41c.39.39.9.59 1.41.59.51 0 1.02-.2 1.41-.59l7.78-7.78 2.81-2.81c.8-.78.8-2.07 0-2.86zM5.41 20L4 18.59l7.72-7.72 1.47 1.35L5.41 20z\"/>\n",
              "  </svg>\n",
              "      </button>\n",
              "      \n",
              "  <style>\n",
              "    .colab-df-container {\n",
              "      display:flex;\n",
              "      flex-wrap:wrap;\n",
              "      gap: 12px;\n",
              "    }\n",
              "\n",
              "    .colab-df-convert {\n",
              "      background-color: #E8F0FE;\n",
              "      border: none;\n",
              "      border-radius: 50%;\n",
              "      cursor: pointer;\n",
              "      display: none;\n",
              "      fill: #1967D2;\n",
              "      height: 32px;\n",
              "      padding: 0 0 0 0;\n",
              "      width: 32px;\n",
              "    }\n",
              "\n",
              "    .colab-df-convert:hover {\n",
              "      background-color: #E2EBFA;\n",
              "      box-shadow: 0px 1px 2px rgba(60, 64, 67, 0.3), 0px 1px 3px 1px rgba(60, 64, 67, 0.15);\n",
              "      fill: #174EA6;\n",
              "    }\n",
              "\n",
              "    [theme=dark] .colab-df-convert {\n",
              "      background-color: #3B4455;\n",
              "      fill: #D2E3FC;\n",
              "    }\n",
              "\n",
              "    [theme=dark] .colab-df-convert:hover {\n",
              "      background-color: #434B5C;\n",
              "      box-shadow: 0px 1px 3px 1px rgba(0, 0, 0, 0.15);\n",
              "      filter: drop-shadow(0px 1px 2px rgba(0, 0, 0, 0.3));\n",
              "      fill: #FFFFFF;\n",
              "    }\n",
              "  </style>\n",
              "\n",
              "      <script>\n",
              "        const buttonEl =\n",
              "          document.querySelector('#df-5b0bbb10-2586-41e8-8d1c-ba60483f7abc button.colab-df-convert');\n",
              "        buttonEl.style.display =\n",
              "          google.colab.kernel.accessAllowed ? 'block' : 'none';\n",
              "\n",
              "        async function convertToInteractive(key) {\n",
              "          const element = document.querySelector('#df-5b0bbb10-2586-41e8-8d1c-ba60483f7abc');\n",
              "          const dataTable =\n",
              "            await google.colab.kernel.invokeFunction('convertToInteractive',\n",
              "                                                     [key], {});\n",
              "          if (!dataTable) return;\n",
              "\n",
              "          const docLinkHtml = 'Like what you see? Visit the ' +\n",
              "            '<a target=\"_blank\" href=https://colab.research.google.com/notebooks/data_table.ipynb>data table notebook</a>'\n",
              "            + ' to learn more about interactive tables.';\n",
              "          element.innerHTML = '';\n",
              "          dataTable['output_type'] = 'display_data';\n",
              "          await google.colab.output.renderOutput(dataTable, element);\n",
              "          const docLink = document.createElement('div');\n",
              "          docLink.innerHTML = docLinkHtml;\n",
              "          element.appendChild(docLink);\n",
              "        }\n",
              "      </script>\n",
              "    </div>\n",
              "  </div>\n",
              "  "
            ]
          },
          "metadata": {},
          "execution_count": 19
        }
      ]
    },
    {
      "cell_type": "code",
      "source": [
        "petrol_data = df.groupby('transmission').get_group('Automatic')\n",
        "petrol_data.describe()"
      ],
      "metadata": {
        "colab": {
          "base_uri": "https://localhost:8080/",
          "height": 364
        },
        "id": "bTtQZzloWWjH",
        "outputId": "0106a5d4-d058-4da8-eb52-088e392cee81"
      },
      "execution_count": null,
      "outputs": [
        {
          "output_type": "execute_result",
          "data": {
            "text/plain": [
              "              year          price        mileage          tax          mpg  \\\n",
              "count  2708.000000    2708.000000    2708.000000  2708.000000  2708.000000   \n",
              "mean   2017.510340   28204.750000   21359.902880   149.411004    46.214660   \n",
              "std       2.292977   13208.708494   24147.928607    64.110911    13.431408   \n",
              "min    1997.000000    1490.000000       1.000000     0.000000    18.900000   \n",
              "25%    2016.000000   19299.000000    4521.000000   145.000000    38.200000   \n",
              "50%    2019.000000   26500.000000   10000.000000   145.000000    44.800000   \n",
              "75%    2019.000000   33500.000000   32413.250000   145.000000    51.400000   \n",
              "max    2020.000000  135000.000000  136000.000000   580.000000   188.300000   \n",
              "\n",
              "        engineSize  \n",
              "count  2708.000000  \n",
              "mean      2.187038  \n",
              "std       0.694709  \n",
              "min       0.000000  \n",
              "25%       2.000000  \n",
              "50%       2.000000  \n",
              "75%       2.900000  \n",
              "max       6.300000  "
            ],
            "text/html": [
              "\n",
              "  <div id=\"df-59eead91-c116-441e-a12c-92f11918e383\">\n",
              "    <div class=\"colab-df-container\">\n",
              "      <div>\n",
              "<style scoped>\n",
              "    .dataframe tbody tr th:only-of-type {\n",
              "        vertical-align: middle;\n",
              "    }\n",
              "\n",
              "    .dataframe tbody tr th {\n",
              "        vertical-align: top;\n",
              "    }\n",
              "\n",
              "    .dataframe thead th {\n",
              "        text-align: right;\n",
              "    }\n",
              "</style>\n",
              "<table border=\"1\" class=\"dataframe\">\n",
              "  <thead>\n",
              "    <tr style=\"text-align: right;\">\n",
              "      <th></th>\n",
              "      <th>year</th>\n",
              "      <th>price</th>\n",
              "      <th>mileage</th>\n",
              "      <th>tax</th>\n",
              "      <th>mpg</th>\n",
              "      <th>engineSize</th>\n",
              "    </tr>\n",
              "  </thead>\n",
              "  <tbody>\n",
              "    <tr>\n",
              "      <th>count</th>\n",
              "      <td>2708.000000</td>\n",
              "      <td>2708.000000</td>\n",
              "      <td>2708.000000</td>\n",
              "      <td>2708.000000</td>\n",
              "      <td>2708.000000</td>\n",
              "      <td>2708.000000</td>\n",
              "    </tr>\n",
              "    <tr>\n",
              "      <th>mean</th>\n",
              "      <td>2017.510340</td>\n",
              "      <td>28204.750000</td>\n",
              "      <td>21359.902880</td>\n",
              "      <td>149.411004</td>\n",
              "      <td>46.214660</td>\n",
              "      <td>2.187038</td>\n",
              "    </tr>\n",
              "    <tr>\n",
              "      <th>std</th>\n",
              "      <td>2.292977</td>\n",
              "      <td>13208.708494</td>\n",
              "      <td>24147.928607</td>\n",
              "      <td>64.110911</td>\n",
              "      <td>13.431408</td>\n",
              "      <td>0.694709</td>\n",
              "    </tr>\n",
              "    <tr>\n",
              "      <th>min</th>\n",
              "      <td>1997.000000</td>\n",
              "      <td>1490.000000</td>\n",
              "      <td>1.000000</td>\n",
              "      <td>0.000000</td>\n",
              "      <td>18.900000</td>\n",
              "      <td>0.000000</td>\n",
              "    </tr>\n",
              "    <tr>\n",
              "      <th>25%</th>\n",
              "      <td>2016.000000</td>\n",
              "      <td>19299.000000</td>\n",
              "      <td>4521.000000</td>\n",
              "      <td>145.000000</td>\n",
              "      <td>38.200000</td>\n",
              "      <td>2.000000</td>\n",
              "    </tr>\n",
              "    <tr>\n",
              "      <th>50%</th>\n",
              "      <td>2019.000000</td>\n",
              "      <td>26500.000000</td>\n",
              "      <td>10000.000000</td>\n",
              "      <td>145.000000</td>\n",
              "      <td>44.800000</td>\n",
              "      <td>2.000000</td>\n",
              "    </tr>\n",
              "    <tr>\n",
              "      <th>75%</th>\n",
              "      <td>2019.000000</td>\n",
              "      <td>33500.000000</td>\n",
              "      <td>32413.250000</td>\n",
              "      <td>145.000000</td>\n",
              "      <td>51.400000</td>\n",
              "      <td>2.900000</td>\n",
              "    </tr>\n",
              "    <tr>\n",
              "      <th>max</th>\n",
              "      <td>2020.000000</td>\n",
              "      <td>135000.000000</td>\n",
              "      <td>136000.000000</td>\n",
              "      <td>580.000000</td>\n",
              "      <td>188.300000</td>\n",
              "      <td>6.300000</td>\n",
              "    </tr>\n",
              "  </tbody>\n",
              "</table>\n",
              "</div>\n",
              "      <button class=\"colab-df-convert\" onclick=\"convertToInteractive('df-59eead91-c116-441e-a12c-92f11918e383')\"\n",
              "              title=\"Convert this dataframe to an interactive table.\"\n",
              "              style=\"display:none;\">\n",
              "        \n",
              "  <svg xmlns=\"http://www.w3.org/2000/svg\" height=\"24px\"viewBox=\"0 0 24 24\"\n",
              "       width=\"24px\">\n",
              "    <path d=\"M0 0h24v24H0V0z\" fill=\"none\"/>\n",
              "    <path d=\"M18.56 5.44l.94 2.06.94-2.06 2.06-.94-2.06-.94-.94-2.06-.94 2.06-2.06.94zm-11 1L8.5 8.5l.94-2.06 2.06-.94-2.06-.94L8.5 2.5l-.94 2.06-2.06.94zm10 10l.94 2.06.94-2.06 2.06-.94-2.06-.94-.94-2.06-.94 2.06-2.06.94z\"/><path d=\"M17.41 7.96l-1.37-1.37c-.4-.4-.92-.59-1.43-.59-.52 0-1.04.2-1.43.59L10.3 9.45l-7.72 7.72c-.78.78-.78 2.05 0 2.83L4 21.41c.39.39.9.59 1.41.59.51 0 1.02-.2 1.41-.59l7.78-7.78 2.81-2.81c.8-.78.8-2.07 0-2.86zM5.41 20L4 18.59l7.72-7.72 1.47 1.35L5.41 20z\"/>\n",
              "  </svg>\n",
              "      </button>\n",
              "      \n",
              "  <style>\n",
              "    .colab-df-container {\n",
              "      display:flex;\n",
              "      flex-wrap:wrap;\n",
              "      gap: 12px;\n",
              "    }\n",
              "\n",
              "    .colab-df-convert {\n",
              "      background-color: #E8F0FE;\n",
              "      border: none;\n",
              "      border-radius: 50%;\n",
              "      cursor: pointer;\n",
              "      display: none;\n",
              "      fill: #1967D2;\n",
              "      height: 32px;\n",
              "      padding: 0 0 0 0;\n",
              "      width: 32px;\n",
              "    }\n",
              "\n",
              "    .colab-df-convert:hover {\n",
              "      background-color: #E2EBFA;\n",
              "      box-shadow: 0px 1px 2px rgba(60, 64, 67, 0.3), 0px 1px 3px 1px rgba(60, 64, 67, 0.15);\n",
              "      fill: #174EA6;\n",
              "    }\n",
              "\n",
              "    [theme=dark] .colab-df-convert {\n",
              "      background-color: #3B4455;\n",
              "      fill: #D2E3FC;\n",
              "    }\n",
              "\n",
              "    [theme=dark] .colab-df-convert:hover {\n",
              "      background-color: #434B5C;\n",
              "      box-shadow: 0px 1px 3px 1px rgba(0, 0, 0, 0.15);\n",
              "      filter: drop-shadow(0px 1px 2px rgba(0, 0, 0, 0.3));\n",
              "      fill: #FFFFFF;\n",
              "    }\n",
              "  </style>\n",
              "\n",
              "      <script>\n",
              "        const buttonEl =\n",
              "          document.querySelector('#df-59eead91-c116-441e-a12c-92f11918e383 button.colab-df-convert');\n",
              "        buttonEl.style.display =\n",
              "          google.colab.kernel.accessAllowed ? 'block' : 'none';\n",
              "\n",
              "        async function convertToInteractive(key) {\n",
              "          const element = document.querySelector('#df-59eead91-c116-441e-a12c-92f11918e383');\n",
              "          const dataTable =\n",
              "            await google.colab.kernel.invokeFunction('convertToInteractive',\n",
              "                                                     [key], {});\n",
              "          if (!dataTable) return;\n",
              "\n",
              "          const docLinkHtml = 'Like what you see? Visit the ' +\n",
              "            '<a target=\"_blank\" href=https://colab.research.google.com/notebooks/data_table.ipynb>data table notebook</a>'\n",
              "            + ' to learn more about interactive tables.';\n",
              "          element.innerHTML = '';\n",
              "          dataTable['output_type'] = 'display_data';\n",
              "          await google.colab.output.renderOutput(dataTable, element);\n",
              "          const docLink = document.createElement('div');\n",
              "          docLink.innerHTML = docLinkHtml;\n",
              "          element.appendChild(docLink);\n",
              "        }\n",
              "      </script>\n",
              "    </div>\n",
              "  </div>\n",
              "  "
            ]
          },
          "metadata": {},
          "execution_count": 20
        }
      ]
    },
    {
      "cell_type": "markdown",
      "metadata": {
        "id": "Sn4RTc8pTC6N"
      },
      "source": [
        "#Data Preprocessing"
      ]
    },
    {
      "cell_type": "markdown",
      "metadata": {
        "id": "_ilxCqpdThNg"
      },
      "source": [
        "##Label Encoding"
      ]
    },
    {
      "cell_type": "code",
      "execution_count": null,
      "metadata": {
        "id": "4vwW1KHcNEw7"
      },
      "outputs": [],
      "source": [
        "from sklearn.preprocessing import LabelEncoder\n",
        "le1 = LabelEncoder()\n",
        "X[:,0] = le1.fit_transform(X[:,0])\n",
        "le2 = LabelEncoder()\n",
        "X[:,4] = le2.fit_transform(X[:,4])"
      ]
    },
    {
      "cell_type": "code",
      "execution_count": null,
      "metadata": {
        "colab": {
          "base_uri": "https://localhost:8080/"
        },
        "id": "_8ajjr3t2xuV",
        "outputId": "27652443-6016-4e3a-c8e1-fd21bbe7ba4a"
      },
      "outputs": [
        {
          "output_type": "execute_result",
          "data": {
            "text/plain": [
              "array([[0, 2017, 'Manual', ..., 150, 55.4, 1.4],\n",
              "       [5, 2016, 'Automatic', ..., 20, 64.2, 2.0],\n",
              "       [0, 2016, 'Manual', ..., 30, 55.4, 1.4],\n",
              "       ...,\n",
              "       [2, 2020, 'Manual', ..., 150, 49.6, 1.0],\n",
              "       [9, 2017, 'Automatic', ..., 150, 47.9, 1.4],\n",
              "       [9, 2016, 'Manual', ..., 150, 47.9, 1.4]], dtype=object)"
            ]
          },
          "metadata": {},
          "execution_count": 22
        }
      ],
      "source": [
        "X"
      ]
    },
    {
      "cell_type": "markdown",
      "metadata": {
        "id": "qupKUfNsXpyp"
      },
      "source": [
        "##One Hot Encoder"
      ]
    },
    {
      "cell_type": "code",
      "execution_count": null,
      "metadata": {
        "id": "yHbdBdrDXbkZ"
      },
      "outputs": [],
      "source": [
        "from sklearn.preprocessing import OneHotEncoder\n",
        "from sklearn.compose import ColumnTransformer \n",
        "ct = ColumnTransformer(transformers = [('encoder', OneHotEncoder(), [2])], remainder='passthrough')\n",
        "X = ct.fit_transform(X)"
      ]
    },
    {
      "cell_type": "code",
      "execution_count": null,
      "metadata": {
        "colab": {
          "base_uri": "https://localhost:8080/"
        },
        "id": "kG2tg1kq19U-",
        "outputId": "c618608d-6273-4765-9b3d-f79151189cb8"
      },
      "outputs": [
        {
          "output_type": "stream",
          "name": "stdout",
          "text": [
            "[[0.0 1.0 0.0 ... 150 55.4 1.4]\n",
            " [1.0 0.0 0.0 ... 20 64.2 2.0]\n",
            " [0.0 1.0 0.0 ... 30 55.4 1.4]\n",
            " ...\n",
            " [0.0 1.0 0.0 ... 150 49.6 1.0]\n",
            " [1.0 0.0 0.0 ... 150 47.9 1.4]\n",
            " [0.0 1.0 0.0 ... 150 47.9 1.4]]\n"
          ]
        }
      ],
      "source": [
        "print(X)"
      ]
    },
    {
      "cell_type": "markdown",
      "source": [
        "###Correlation"
      ],
      "metadata": {
        "id": "ZZp_UzsmW95L"
      }
    },
    {
      "cell_type": "code",
      "source": [
        "plt.figure(figsize=(10,7))\n",
        "sns.heatmap(df.corr(), annot=True)\n",
        "plt.title('Correlation between the columns')\n",
        "plt.show()"
      ],
      "metadata": {
        "colab": {
          "base_uri": "https://localhost:8080/",
          "height": 445
        },
        "id": "3tCGsoLxXAcH",
        "outputId": "2e792f59-8a19-49cc-a2cd-b04d15b2b5ce"
      },
      "execution_count": null,
      "outputs": [
        {
          "output_type": "display_data",
          "data": {
            "text/plain": [
              "<Figure size 720x504 with 2 Axes>"
            ],
            "image/png": "[encoded data removed]"
          },
          "metadata": {}
        }
      ]
    },
    {
      "cell_type": "markdown",
      "metadata": {
        "id": "J1RC3Mb19DnV"
      },
      "source": [
        "#Feature Scaling"
      ]
    },
    {
      "cell_type": "code",
      "execution_count": null,
      "metadata": {
        "id": "D880sqhA1_Kw"
      },
      "outputs": [],
      "source": [
        "from sklearn.preprocessing import StandardScaler\n",
        "sc = StandardScaler()\n",
        "X = sc.fit_transform(X)\n"
      ]
    },
    {
      "cell_type": "code",
      "execution_count": null,
      "metadata": {
        "colab": {
          "base_uri": "https://localhost:8080/"
        },
        "id": "f0ApE2G08_82",
        "outputId": "9b4af994-089c-4f41-f407-71b734ecd63f"
      },
      "outputs": [
        {
          "output_type": "stream",
          "name": "stdout",
          "text": [
            "[[-0.58326752  1.2007284  -0.71233307 ...  0.35714729  0.35755001\n",
            "  -0.88021837]\n",
            " [ 1.71447913 -0.83282781 -0.71233307 ... -1.57832278  1.03713001\n",
            "   0.11492465]\n",
            " [-0.58326752  1.2007284  -0.71233307 ... -1.42944047  0.35755001\n",
            "  -0.88021837]\n",
            " ...\n",
            " [-0.58326752  1.2007284  -0.71233307 ...  0.35714729 -0.09035499\n",
            "  -1.54364705]\n",
            " [ 1.71447913 -0.83282781 -0.71233307 ...  0.35714729 -0.22163749\n",
            "  -0.88021837]\n",
            " [-0.58326752  1.2007284  -0.71233307 ...  0.35714729 -0.22163749\n",
            "  -0.88021837]]\n"
          ]
        }
      ],
      "source": [
        "print(X)"
      ]
    },
    {
      "cell_type": "markdown",
      "metadata": {
        "id": "bnhmVRYp9SmD"
      },
      "source": [
        "#Splitting Dataset into Training and Test set"
      ]
    },
    {
      "cell_type": "code",
      "execution_count": null,
      "metadata": {
        "id": "NeCUQ5VM9CI1"
      },
      "outputs": [],
      "source": [
        "from sklearn.model_selection import train_test_split\n",
        "(X_train, X_test, Y_train, Y_test) = train_test_split(X, Y, test_size=0.2, random_state=0)"
      ]
    },
    {
      "cell_type": "markdown",
      "metadata": {
        "id": "V1_eoutxBayY"
      },
      "source": [
        "#Training Model"
      ]
    },
    {
      "cell_type": "markdown",
      "source": [
        "###Random Forest"
      ],
      "metadata": {
        "id": "fOnage9RTYTh"
      }
    },
    {
      "cell_type": "code",
      "execution_count": null,
      "metadata": {
        "colab": {
          "base_uri": "https://localhost:8080/"
        },
        "id": "ohhhB4tV_CEI",
        "outputId": "097fc9f5-d2dc-4837-c662-61e031caeb64"
      },
      "outputs": [
        {
          "output_type": "stream",
          "name": "stderr",
          "text": [
            "/usr/local/lib/python3.7/dist-packages/ipykernel_launcher.py:3: DataConversionWarning: A column-vector y was passed when a 1d array was expected. Please change the shape of y to (n_samples,), for example using ravel().\n",
            "  This is separate from the ipykernel package so we can avoid doing imports until\n"
          ]
        },
        {
          "output_type": "execute_result",
          "data": {
            "text/plain": [
              "RandomForestRegressor(random_state=0)"
            ]
          },
          "metadata": {},
          "execution_count": 29
        }
      ],
      "source": [
        "from sklearn.ensemble import RandomForestRegressor\n",
        "regression = RandomForestRegressor(random_state=0)\n",
        "regression.fit(X_train, Y_train)"
      ]
    },
    {
      "cell_type": "code",
      "execution_count": null,
      "metadata": {
        "id": "fP3mBkckBrS-"
      },
      "outputs": [],
      "source": [
        "y_pred = regression.predict(X_test)"
      ]
    },
    {
      "cell_type": "code",
      "execution_count": null,
      "metadata": {
        "colab": {
          "base_uri": "https://localhost:8080/"
        },
        "id": "VpNrgNwLCiZo",
        "outputId": "41765c4a-8056-4c2a-ee41-51e7376d514c"
      },
      "outputs": [
        {
          "output_type": "stream",
          "name": "stdout",
          "text": [
            "[14337.15 23450.35 27330.07 ... 46275.18 31359.    9929.62]\n"
          ]
        }
      ],
      "source": [
        "print(y_pred)"
      ]
    },
    {
      "cell_type": "code",
      "execution_count": null,
      "metadata": {
        "colab": {
          "base_uri": "https://localhost:8080/"
        },
        "id": "AnSUS3fnDCPh",
        "outputId": "51f20ac4-b136-434e-f85a-6f019476fdb3"
      },
      "outputs": [
        {
          "output_type": "stream",
          "name": "stdout",
          "text": [
            "[[14998]\n",
            " [21950]\n",
            " [28990]\n",
            " ...\n",
            " [45995]\n",
            " [30500]\n",
            " [ 8400]]\n"
          ]
        }
      ],
      "source": [
        "print(Y_test)"
      ]
    },
    {
      "cell_type": "markdown",
      "metadata": {
        "id": "zkhGWEr6CUvS"
      },
      "source": [
        "#Testing result Random Forest"
      ]
    },
    {
      "cell_type": "markdown",
      "source": [
        "##Prediciton on test data"
      ],
      "metadata": {
        "id": "LG7pF6R_VHKy"
      }
    },
    {
      "cell_type": "code",
      "execution_count": null,
      "metadata": {
        "colab": {
          "base_uri": "https://localhost:8080/"
        },
        "id": "DiOszLD-CTJ4",
        "outputId": "809f593c-8cd1-4012-d4ac-456a6a70db9a"
      },
      "outputs": [
        {
          "output_type": "stream",
          "name": "stdout",
          "text": [
            "[[14337.15 14998.  ]\n",
            " [23450.35 21950.  ]\n",
            " [27330.07 28990.  ]\n",
            " ...\n",
            " [46275.18 45995.  ]\n",
            " [31359.   30500.  ]\n",
            " [ 9929.62  8400.  ]]\n"
          ]
        }
      ],
      "source": [
        "print(np.concatenate((y_pred.reshape(len(y_pred), 1), Y_test.reshape(len(Y_test), 1)), 1))"
      ]
    },
    {
      "cell_type": "markdown",
      "metadata": {
        "id": "qRZMpexKFncA"
      },
      "source": [
        "###R squared Error"
      ]
    },
    {
      "cell_type": "code",
      "execution_count": null,
      "metadata": {
        "colab": {
          "base_uri": "https://localhost:8080/"
        },
        "id": "cs7oZZe2Ea3f",
        "outputId": "cbbda54f-e2df-4a59-d7f7-2ee172ee25ef"
      },
      "outputs": [
        {
          "output_type": "stream",
          "name": "stdout",
          "text": [
            "R squared Error for Random Forest test data:  0.9536134841307546\n"
          ]
        }
      ],
      "source": [
        "from sklearn.metrics import r2_score\n",
        "error_score = metrics.r2_score(Y_test, y_pred)\n",
        "print('R squared Error for Random Forest test data: ', error_score)"
      ]
    },
    {
      "cell_type": "markdown",
      "source": [
        "###Visualize the actual prices and Predicted prices"
      ],
      "metadata": {
        "id": "IfJbVbjtVj4E"
      }
    },
    {
      "cell_type": "code",
      "source": [
        "plt.scatter(Y_test, y_pred)\n",
        "plt.xlabel(\"Actual Price\")\n",
        "plt.ylabel(\"Predicted Price\")\n",
        "plt.title(\"Actual Prices vs Predicted Prices\")\n",
        "plt.show()"
      ],
      "metadata": {
        "colab": {
          "base_uri": "https://localhost:8080/",
          "height": 299
        },
        "id": "_IZFdnJaVpIt",
        "outputId": "2c3faacb-1e0a-430f-d763-5f101608fd8d"
      },
      "execution_count": null,
      "outputs": [
        {
          "output_type": "display_data",
          "data": {
            "text/plain": [
              "<Figure size 432x288 with 1 Axes>"
            ],
            "image/png": "[encoded data removed]"
          },
          "metadata": {}
        }
      ]
    },
    {
      "cell_type": "markdown",
      "metadata": {
        "id": "7hksyi9AGgEe"
      },
      "source": [
        "###Making Dataframe"
      ]
    },
    {
      "cell_type": "code",
      "execution_count": null,
      "metadata": {
        "colab": {
          "base_uri": "https://localhost:8080/"
        },
        "id": "uJuhHPlnGGsP",
        "outputId": "bc7b40ff-902d-4033-b90e-39d475d765a6"
      },
      "outputs": [
        {
          "output_type": "execute_result",
          "data": {
            "text/plain": [
              "array([[14337.15, 14998.  ],\n",
              "       [23450.35, 21950.  ],\n",
              "       [27330.07, 28990.  ],\n",
              "       ...,\n",
              "       [46275.18, 45995.  ],\n",
              "       [31359.  , 30500.  ],\n",
              "       [ 9929.62,  8400.  ]])"
            ]
          },
          "metadata": {},
          "execution_count": 36
        }
      ],
      "source": [
        "mydata = np.concatenate((y_pred.reshape(len(y_pred), 1), Y_test.reshape(len(Y_test), 1)), 1)\n",
        "mydata"
      ]
    },
    {
      "cell_type": "code",
      "execution_count": null,
      "metadata": {
        "id": "HyfgCbubI1hX"
      },
      "outputs": [],
      "source": [
        "dataframe = pd.DataFrame(mydata, columns=['Predicted Value', 'Real V'])"
      ]
    },
    {
      "cell_type": "markdown",
      "source": [
        "##Prediction on Training Data"
      ],
      "metadata": {
        "id": "jqRGmM0coB1c"
      }
    },
    {
      "cell_type": "code",
      "source": [
        "training_data_prediction_RF = regression.predict(X_train)  ##y pred"
      ],
      "metadata": {
        "id": "Fyhi_4WzntC8"
      },
      "execution_count": null,
      "outputs": []
    },
    {
      "cell_type": "markdown",
      "source": [
        "###R squared error"
      ],
      "metadata": {
        "id": "mWRg8Y_RoTrp"
      }
    },
    {
      "cell_type": "code",
      "source": [
        "error_score_RF = metrics.r2_score(Y_train, training_data_prediction_RF)\n",
        "print('R squared Error for Random Forest training data: ', error_score_RF)"
      ],
      "metadata": {
        "colab": {
          "base_uri": "https://localhost:8080/"
        },
        "id": "KlMnlwY6oRpa",
        "outputId": "4a92c898-dea2-4e1f-a0cf-957e728a9715"
      },
      "execution_count": null,
      "outputs": [
        {
          "output_type": "stream",
          "name": "stdout",
          "text": [
            "R squared Error for Random Forest training data:  0.9934793784001755\n"
          ]
        }
      ]
    },
    {
      "cell_type": "markdown",
      "source": [
        "###Visualize the actual prices and Predicted prices"
      ],
      "metadata": {
        "id": "aXjqEv1fchHe"
      }
    },
    {
      "cell_type": "code",
      "source": [
        "plt.scatter(Y_train, training_data_prediction_RF)\n",
        "plt.xlabel(\"Actual Price\")\n",
        "plt.ylabel(\"Predicted Price\")\n",
        "plt.title(\"Actual Prices vs Predicted Prices\")\n",
        "plt.show()"
      ],
      "metadata": {
        "colab": {
          "base_uri": "https://localhost:8080/",
          "height": 299
        },
        "id": "h--8q7jHokhq",
        "outputId": "caf50b78-e523-479b-c068-61db63222f56"
      },
      "execution_count": null,
      "outputs": [
        {
          "output_type": "display_data",
          "data": {
            "text/plain": [
              "<Figure size 432x288 with 1 Axes>"
            ],
            "image/png": "[encoded data removed]"
          },
          "metadata": {}
        }
      ]
    },
    {
      "cell_type": "markdown",
      "source": [
        "#Testing Result Linear Regression"
      ],
      "metadata": {
        "id": "mgcMWvqHo4a9"
      }
    },
    {
      "cell_type": "markdown",
      "source": [
        "##Training Model"
      ],
      "metadata": {
        "id": "6atUjM61pCnb"
      }
    },
    {
      "cell_type": "code",
      "source": [
        "from sklearn.linear_model import LinearRegression\n",
        "lin_reg_model = LinearRegression()\n",
        "lin_reg_model.fit(X_train, Y_train)"
      ],
      "metadata": {
        "colab": {
          "base_uri": "https://localhost:8080/"
        },
        "id": "wq1Fil40osmG",
        "outputId": "98345d87-af66-4975-e3b2-1fc1e2d52d7c"
      },
      "execution_count": null,
      "outputs": [
        {
          "output_type": "execute_result",
          "data": {
            "text/plain": [
              "LinearRegression()"
            ]
          },
          "metadata": {},
          "execution_count": 41
        }
      ]
    },
    {
      "cell_type": "markdown",
      "source": [
        "##Prediction on training data"
      ],
      "metadata": {
        "id": "_kRgc36Ups8M"
      }
    },
    {
      "cell_type": "code",
      "source": [
        "training_data_prediction_LR = lin_reg_model.predict(X_train)"
      ],
      "metadata": {
        "id": "sfDYWeBApkpn"
      },
      "execution_count": null,
      "outputs": []
    },
    {
      "cell_type": "markdown",
      "source": [
        "###R squared Error"
      ],
      "metadata": {
        "id": "DkKb5HziVllW"
      }
    },
    {
      "cell_type": "code",
      "source": [
        "error_score_LR = metrics.r2_score(Y_train, training_data_prediction_LR)\n",
        "print('R squared Error for Linear Regression training data: ', error_score_LR)"
      ],
      "metadata": {
        "colab": {
          "base_uri": "https://localhost:8080/"
        },
        "id": "uRnhI2srUF0e",
        "outputId": "29809ad1-87ea-4b6c-9f68-0e8e03df4acc"
      },
      "execution_count": null,
      "outputs": [
        {
          "output_type": "stream",
          "name": "stdout",
          "text": [
            "R squared Error for Linear Regression training data:  0.7904620338495609\n"
          ]
        }
      ]
    },
    {
      "cell_type": "markdown",
      "source": [
        "###Visualize the actual prices and Predicted prices"
      ],
      "metadata": {
        "id": "Y1Dv4bD_WrzH"
      }
    },
    {
      "cell_type": "code",
      "source": [
        "plt.scatter(Y_train, training_data_prediction_LR)\n",
        "plt.xlabel(\"Actual Price\")\n",
        "plt.ylabel(\"Predicted Price\")\n",
        "plt.title(\"Actual Prices vs Predicted Prices\")\n",
        "plt.show()"
      ],
      "metadata": {
        "colab": {
          "base_uri": "https://localhost:8080/",
          "height": 299
        },
        "id": "4n_2Uq1qqLC7",
        "outputId": "b13b60fe-eb6a-4a2b-bfd3-7b1b4e0debc4"
      },
      "execution_count": null,
      "outputs": [
        {
          "output_type": "display_data",
          "data": {
            "text/plain": [
              "<Figure size 432x288 with 1 Axes>"
            ],
            "image/png": "[encoded data removed]"
          },
          "metadata": {}
        }
      ]
    },
    {
      "cell_type": "markdown",
      "source": [
        "##Prediction on Test Data"
      ],
      "metadata": {
        "id": "Q0IJsKjPqo-O"
      }
    },
    {
      "cell_type": "code",
      "source": [
        "test_data_prediction_LR2 = lin_reg_model.predict(X_test)"
      ],
      "metadata": {
        "id": "Z6-8df53qotq"
      },
      "execution_count": null,
      "outputs": []
    },
    {
      "cell_type": "markdown",
      "source": [
        "###R squared error"
      ],
      "metadata": {
        "id": "G9FNXLH9qytY"
      }
    },
    {
      "cell_type": "code",
      "source": [
        "error_score_LR2 = metrics.r2_score(Y_test, test_data_prediction_LR2)\n",
        "print(\"R squared Error for Linear Regression Test data: \", error_score_LR2)"
      ],
      "metadata": {
        "colab": {
          "base_uri": "https://localhost:8080/"
        },
        "id": "mnWLWuhDqxIk",
        "outputId": "d0ff18dd-898d-4ac6-d2f6-94b5b0f52481"
      },
      "execution_count": null,
      "outputs": [
        {
          "output_type": "stream",
          "name": "stdout",
          "text": [
            "R squared Error for Linear Regression Test data:  0.7916173577064793\n"
          ]
        }
      ]
    },
    {
      "cell_type": "markdown",
      "source": [
        "###Plotting the Test predicted data"
      ],
      "metadata": {
        "id": "d1IDCQOVrIWE"
      }
    },
    {
      "cell_type": "code",
      "source": [
        "plt.scatter(Y_test, test_data_prediction_LR2)\n",
        "plt.xlabel(\"Actual Price\")\n",
        "plt.ylabel(\"Predicted Price\")\n",
        "plt.title(\"Actual Prices vs Predicted Prices\")\n",
        "plt.show()"
      ],
      "metadata": {
        "colab": {
          "base_uri": "https://localhost:8080/",
          "height": 299
        },
        "id": "7BW4BgWLq-LC",
        "outputId": "e50f2a02-197e-4727-856d-faa708c4d486"
      },
      "execution_count": null,
      "outputs": [
        {
          "output_type": "display_data",
          "data": {
            "text/plain": [
              "<Figure size 432x288 with 1 Axes>"
            ],
            "image/png": "[encoded data removed]"
          },
          "metadata": {}
        }
      ]
    },
    {
      "cell_type": "markdown",
      "source": [
        "#Testing Result Lasso Regression"
      ],
      "metadata": {
        "id": "NSuhHQjnrVHq"
      }
    },
    {
      "cell_type": "markdown",
      "source": [
        "##Training Lasso"
      ],
      "metadata": {
        "id": "-O6OOh14sFY5"
      }
    },
    {
      "cell_type": "code",
      "source": [
        "from sklearn.linear_model import Lasso\n",
        "lass_reg_model = Lasso()\n",
        "lass_reg_model.fit(X_train, Y_train)"
      ],
      "metadata": {
        "colab": {
          "base_uri": "https://localhost:8080/"
        },
        "id": "tfIc2z6EsIly",
        "outputId": "a4f25660-dfd4-41c5-8f01-d0f4dbd3d9e7"
      },
      "execution_count": null,
      "outputs": [
        {
          "output_type": "execute_result",
          "data": {
            "text/plain": [
              "Lasso()"
            ]
          },
          "metadata": {},
          "execution_count": 48
        }
      ]
    },
    {
      "cell_type": "markdown",
      "source": [],
      "metadata": {
        "id": "-EVEwa9Xsrmh"
      }
    },
    {
      "cell_type": "markdown",
      "source": [
        "##Prediction on Training Data"
      ],
      "metadata": {
        "id": "0jFUDOXVshFJ"
      }
    },
    {
      "cell_type": "code",
      "source": [
        "training_data_prediction_Lass = lass_reg_model.predict(X_train)"
      ],
      "metadata": {
        "id": "GF9zuPGWswy0"
      },
      "execution_count": null,
      "outputs": []
    },
    {
      "cell_type": "markdown",
      "source": [
        "###R squared Error"
      ],
      "metadata": {
        "id": "sE52YmmltDM0"
      }
    },
    {
      "cell_type": "code",
      "source": [
        "error_score_Lass = metrics.r2_score(Y_train, training_data_prediction_Lass)\n",
        "print('R squared Error for Lasso training data: ', error_score_Lass)"
      ],
      "metadata": {
        "colab": {
          "base_uri": "https://localhost:8080/"
        },
        "id": "QX6EDSUhsTnb",
        "outputId": "2cdb66a1-df7b-477a-863c-dc752c092b57"
      },
      "execution_count": null,
      "outputs": [
        {
          "output_type": "stream",
          "name": "stdout",
          "text": [
            "R squared Error for Lasso training data:  0.7904881601971587\n"
          ]
        }
      ]
    },
    {
      "cell_type": "markdown",
      "source": [
        "###Visualize the actual prices and Predicted prices"
      ],
      "metadata": {
        "id": "pbnTsOfMtHgj"
      }
    },
    {
      "cell_type": "code",
      "source": [
        "plt.scatter(Y_train, training_data_prediction_Lass)\n",
        "plt.xlabel(\"Actual Price\")\n",
        "plt.ylabel(\"Predicted Price\")\n",
        "plt.title(\"Actual Prices vs Predicted Prices\")\n",
        "plt.show()"
      ],
      "metadata": {
        "colab": {
          "base_uri": "https://localhost:8080/",
          "height": 299
        },
        "id": "64UkdbcBs2DH",
        "outputId": "fc32fbd2-6f58-4acb-ddac-e147c57cebcf"
      },
      "execution_count": null,
      "outputs": [
        {
          "output_type": "display_data",
          "data": {
            "text/plain": [
              "<Figure size 432x288 with 1 Axes>"
            ],
            "image/png": "[encoded data removed]"
          },
          "metadata": {}
        }
      ]
    },
    {
      "cell_type": "markdown",
      "source": [
        "##Prediction on Test Data"
      ],
      "metadata": {
        "id": "GSnXsYx4tuxg"
      }
    },
    {
      "cell_type": "code",
      "source": [
        "test_data_prediction_Lass2 = lass_reg_model.predict(X_test)"
      ],
      "metadata": {
        "id": "mn6u0QVZtMvj"
      },
      "execution_count": null,
      "outputs": []
    },
    {
      "cell_type": "markdown",
      "source": [
        "###R squared Error"
      ],
      "metadata": {
        "id": "TCmtG27Dt1w9"
      }
    },
    {
      "cell_type": "code",
      "source": [
        "error_score_Lass2 = metrics.r2_score(Y_test, test_data_prediction_Lass2)\n",
        "print(\"R squared Error for Lasso Test data: \", error_score_Lass2)"
      ],
      "metadata": {
        "colab": {
          "base_uri": "https://localhost:8080/"
        },
        "id": "kLJtPXyet0xT",
        "outputId": "ee16c451-8abc-410b-9754-02d690a6a34b"
      },
      "execution_count": null,
      "outputs": [
        {
          "output_type": "stream",
          "name": "stdout",
          "text": [
            "R squared Error for Lasso Test data:  0.7916386038223415\n"
          ]
        }
      ]
    },
    {
      "cell_type": "markdown",
      "source": [
        "###Plotting the Test predicted data"
      ],
      "metadata": {
        "id": "3bhMLoTouCu4"
      }
    },
    {
      "cell_type": "code",
      "source": [
        "plt.scatter(Y_test, test_data_prediction_Lass2)\n",
        "plt.xlabel(\"Actual Price\")\n",
        "plt.ylabel(\"Predicted Price\")\n",
        "plt.title(\"Actual Prices vs Predicted Prices\")\n",
        "plt.show()"
      ],
      "metadata": {
        "colab": {
          "base_uri": "https://localhost:8080/",
          "height": 299
        },
        "id": "D1KPgQast_yU",
        "outputId": "3099b419-606f-4667-83ac-8e7e9d241a27"
      },
      "execution_count": null,
      "outputs": [
        {
          "output_type": "display_data",
          "data": {
            "text/plain": [
              "<Figure size 432x288 with 1 Axes>"
            ],
            "image/png": "[encoded data removed]"
          },
          "metadata": {}
        }
      ]
    },
    {
      "cell_type": "code",
      "source": [],
      "metadata": {
        "id": "bS0H3SHSuKAj"
      },
      "execution_count": null,
      "outputs": []
    }
  ],
  "metadata": {
    "colab": {
      "provenance": []
    },
    "kernelspec": {
      "display_name": "Python 3",
      "name": "python3"
    },
    "language_info": {
      "name": "python"
    }
  },
  "nbformat": 4,
  "nbformat_minor": 0
}